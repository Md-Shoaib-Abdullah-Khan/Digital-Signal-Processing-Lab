{
 "cells": [
  {
   "cell_type": "code",
   "execution_count": 2,
   "id": "dd88f0dd-500d-4063-b9e3-1a05cd1c7807",
   "metadata": {},
   "outputs": [],
   "source": [
    "import numpy as np\n",
    "import matplotlib.pyplot as plt\n",
    "import math"
   ]
  },
  {
   "cell_type": "code",
   "execution_count": 44,
   "id": "81e0fb7d-0521-4017-aabd-33d208c7194d",
   "metadata": {},
   "outputs": [],
   "source": [
    "def dft(x):\n",
    "    N = x.size\n",
    "    X = np.zeros(N, dtype=complex)\n",
    "\n",
    "    for m in range(0,N):\n",
    "        for n in range(0,N):\n",
    "            angle = (-2j * np.pi * n * m)/N\n",
    "            X[m] = X[m] + x[n] * np.exp(angle)\n",
    "\n",
    "    X = np.round(X,4)\n",
    "    magnitude = np.abs(X)\n",
    "    phase = np.angle(X, deg=True)\n",
    "    \n",
    "\n",
    "    return X, magnitude, phase"
   ]
  },
  {
   "cell_type": "code",
   "execution_count": 47,
   "id": "77159712-e308-40fb-aa40-e411335d3931",
   "metadata": {},
   "outputs": [
    {
     "data": {
      "text/plain": [
       "(array([-1.0000e-04+0.0000e+00j,  0.0000e+00-3.9999e+00j,\n",
       "         1.4141e+00+1.4144e+00j,  0.0000e+00-1.0000e-04j,\n",
       "        -1.0000e-04-0.0000e+00j,  0.0000e+00+1.0000e-04j,\n",
       "         1.4141e+00-1.4144e+00j, -0.0000e+00+3.9999e+00j]),\n",
       " array([1.00000000e-04, 3.99990000e+00, 2.00005154e+00, 1.00000000e-04,\n",
       "        1.00000000e-04, 1.00000000e-04, 2.00005154e+00, 3.99990000e+00]),\n",
       " array([ 180.        ,  -90.        ,   45.00607698,  -90.        ,\n",
       "        -180.        ,   90.        ,  -45.00607698,   90.        ]))"
      ]
     },
     "execution_count": 47,
     "metadata": {},
     "output_type": "execute_result"
    }
   ],
   "source": [
    "X, magnitude, phase = dft(np.array([.3535, .3535, .6464, 1.0607, .3535, -1.0607, -1.3535, -.3535]))\n",
    "X, magnitude, phase"
   ]
  },
  {
   "cell_type": "code",
   "execution_count": 46,
   "id": "103dbdd1-6f41-46e6-897c-adbbb0812e96",
   "metadata": {},
   "outputs": [
    {
     "name": "stdout",
     "output_type": "stream",
     "text": [
      "-0.0\n",
      "-1.5707963267948966\n",
      "0.785504226681477\n",
      "-1.5707963267948966\n",
      "0.0\n",
      "1.5707963267948966\n",
      "-0.785504226681477\n",
      "-1.5707963267948966\n"
     ]
    },
    {
     "name": "stderr",
     "output_type": "stream",
     "text": [
      "C:\\Users\\mdsho\\AppData\\Local\\Temp\\ipykernel_40300\\3328729393.py:2: RuntimeWarning: divide by zero encountered in scalar divide\n",
      "  print(np.arctan(X[i].imag/X[i].real))\n"
     ]
    }
   ],
   "source": [
    "for i in range(8):\n",
    "    print(np.arctan(X[i].imag/X[i].real))"
   ]
  },
  {
   "cell_type": "code",
   "execution_count": null,
   "id": "9e8828ea-d471-43e1-8f97-a9b936d95cfc",
   "metadata": {},
   "outputs": [],
   "source": []
  },
  {
   "cell_type": "code",
   "execution_count": null,
   "id": "30ab706b-b4c6-47f0-a83e-c9530ab1f0d0",
   "metadata": {},
   "outputs": [],
   "source": []
  }
 ],
 "metadata": {
  "kernelspec": {
   "display_name": "Python 3 (ipykernel)",
   "language": "python",
   "name": "python3"
  },
  "language_info": {
   "codemirror_mode": {
    "name": "ipython",
    "version": 3
   },
   "file_extension": ".py",
   "mimetype": "text/x-python",
   "name": "python",
   "nbconvert_exporter": "python",
   "pygments_lexer": "ipython3",
   "version": "3.11.4"
  }
 },
 "nbformat": 4,
 "nbformat_minor": 5
}
